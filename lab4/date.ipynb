{
 "cells": [
  {
   "cell_type": "markdown",
   "metadata": {},
   "source": [
    "Task 1"
   ]
  },
  {
   "cell_type": "code",
   "execution_count": 1,
   "metadata": {},
   "outputs": [
    {
     "name": "stdout",
     "output_type": "stream",
     "text": [
      "Five days ago: 2025-02-10\n"
     ]
    }
   ],
   "source": [
    "from datetime import datetime, timedelta\n",
    " \n",
    "# Get today's date\n",
    "today = datetime.now()\n",
    " \n",
    "# Subtract five days\n",
    "five_days_ago = today - timedelta(days=5)\n",
    " \n",
    "# Print the result\n",
    "print(\"Five days ago:\", five_days_ago.strftime(\"%Y-%m-%d\"))"
   ]
  },
  {
   "cell_type": "markdown",
   "metadata": {},
   "source": [
    "Task 2"
   ]
  },
  {
   "cell_type": "code",
   "execution_count": 2,
   "metadata": {},
   "outputs": [
    {
     "name": "stdout",
     "output_type": "stream",
     "text": [
      "Yesterday: 2025-02-14\n",
      "Today: 2025-02-15\n",
      "Tomorrow: 2025-02-16\n"
     ]
    }
   ],
   "source": [
    "from datetime import datetime, timedelta\n",
    " \n",
    "# Get today's date\n",
    "today = datetime.now()\n",
    " \n",
    "# Calculate yesterday and tomorrow\n",
    "yesterday = today - timedelta(days=1)\n",
    "tomorrow = today + timedelta(days=1)\n",
    " \n",
    "# Print yesterday, today, and tomorrow\n",
    "print(\"Yesterday:\", yesterday.strftime(\"%Y-%m-%d\"))\n",
    "print(\"Today:\", today.strftime(\"%Y-%m-%d\"))\n",
    "print(\"Tomorrow:\", tomorrow.strftime(\"%Y-%m-%d\"))"
   ]
  },
  {
   "cell_type": "markdown",
   "metadata": {},
   "source": [
    "Task 3"
   ]
  },
  {
   "cell_type": "code",
   "execution_count": 3,
   "metadata": {},
   "outputs": [
    {
     "name": "stdout",
     "output_type": "stream",
     "text": [
      "Current time without microseconds: 2025-02-15 13:29:28\n"
     ]
    }
   ],
   "source": [
    "from datetime import datetime\n",
    " \n",
    "# Get the current date and time with microseconds\n",
    "now = datetime.now()\n",
    " \n",
    "# Drop microseconds\n",
    "now_without_microseconds = now.replace(microsecond=0)\n",
    " \n",
    "# Print the result\n",
    "print(\"Current time without microseconds:\", now_without_microseconds)"
   ]
  },
  {
   "cell_type": "markdown",
   "metadata": {},
   "source": [
    "Task 4"
   ]
  },
  {
   "cell_type": "code",
   "execution_count": 4,
   "metadata": {},
   "outputs": [
    {
     "name": "stdout",
     "output_type": "stream",
     "text": [
      "The difference between the two dates in seconds: 180000.0\n"
     ]
    }
   ],
   "source": [
    "from datetime import datetime\n",
    " \n",
    "# Define two date strings\n",
    "date_str1 = \"2025-02-10 10:00:00\"\n",
    "date_str2 = \"2025-02-12 12:00:00\"\n",
    " \n",
    "# Convert strings to datetime objects\n",
    "date1 = datetime.strptime(date_str1, \"%Y-%m-%d %H:%M:%S\")\n",
    "date2 = datetime.strptime(date_str2, \"%Y-%m-%d %H:%M:%S\")\n",
    " \n",
    "# Calculate the difference in seconds\n",
    "difference_in_seconds = (date2 - date1).total_seconds()\n",
    " \n",
    "# Print the result\n",
    "print(\"The difference between the two dates in seconds:\", difference_in_seconds)"
   ]
  }
 ],
 "metadata": {
  "kernelspec": {
   "display_name": "Python 3",
   "language": "python",
   "name": "python3"
  },
  "language_info": {
   "codemirror_mode": {
    "name": "ipython",
    "version": 3
   },
   "file_extension": ".py",
   "mimetype": "text/x-python",
   "name": "python",
   "nbconvert_exporter": "python",
   "pygments_lexer": "ipython3",
   "version": "3.12.5"
  }
 },
 "nbformat": 4,
 "nbformat_minor": 2
}
