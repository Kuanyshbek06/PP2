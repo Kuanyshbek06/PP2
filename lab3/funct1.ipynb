{
 "cells": [
  {
   "cell_type": "markdown",
   "metadata": {},
   "source": [
    "Task1\n"
   ]
  },
  {
   "cell_type": "code",
   "execution_count": 1,
   "metadata": {},
   "outputs": [
    {
     "name": "stdout",
     "output_type": "stream",
     "text": [
      "425.2428465\n"
     ]
    }
   ],
   "source": [
    "def conv_grams_to_ounc(grams):\n",
    "    ounces = 28.3495231 * grams\n",
    "    return ounces\n",
    " \n",
    "print(conv_grams_to_ounc(15))"
   ]
  },
  {
   "cell_type": "markdown",
   "metadata": {},
   "source": [
    "Task2"
   ]
  },
  {
   "cell_type": "code",
   "execution_count": 2,
   "metadata": {},
   "outputs": [
    {
     "name": "stdout",
     "output_type": "stream",
     "text": [
      "35.0\n"
     ]
    }
   ],
   "source": [
    "def conv_to_Cel(Faren):\n",
    "    C = (5 / 9) * (Faren - 32)\n",
    "    return C\n",
    " \n",
    "print(conv_to_Cel(95))"
   ]
  },
  {
   "cell_type": "markdown",
   "metadata": {},
   "source": [
    "Task3"
   ]
  },
  {
   "cell_type": "code",
   "execution_count": 3,
   "metadata": {},
   "outputs": [
    {
     "name": "stdout",
     "output_type": "stream",
     "text": [
      "There are 23 chickens and 12 rabbits.\n"
     ]
    }
   ],
   "source": [
    "def solve_puzzle():\n",
    "    total_heads = 35\n",
    "    total_legs = 94\n",
    "    for x in range(total_heads + 1):\n",
    "        y = total_heads - x\n",
    "        if 2 * x + 4 * y == total_legs:\n",
    "            return x, y\n",
    "   \n",
    "    return None, None  \n",
    " \n",
    "chickens, rabbits = solve_puzzle()\n",
    "print(f\"There are {chickens} chickens and {rabbits} rabbits.\")"
   ]
  },
  {
   "cell_type": "markdown",
   "metadata": {},
   "source": [
    "Task4"
   ]
  },
  {
   "cell_type": "code",
   "execution_count": 4,
   "metadata": {},
   "outputs": [
    {
     "name": "stdout",
     "output_type": "stream",
     "text": [
      "[5, 13]\n"
     ]
    }
   ],
   "source": [
    "lists = [1, 4, 5, 87, -14, 25, 13, 26]\n",
    "def is_prime(n):\n",
    "    if n < 2:\n",
    "        return False\n",
    "    for i in range(2, int(n**0.5) + 1):\n",
    "        if n % i == 0:\n",
    "            return False\n",
    "    return True\n",
    " \n",
    "def filter_num(lists):\n",
    "    return[num for num in lists if is_prime(num)]\n",
    "print(filter_num(lists))"
   ]
  },
  {
   "cell_type": "markdown",
   "metadata": {},
   "source": [
    "Task 6"
   ]
  },
  {
   "cell_type": "code",
   "execution_count": 6,
   "metadata": {},
   "outputs": [
    {
     "name": "stdout",
     "output_type": "stream",
     "text": [
      "\n"
     ]
    }
   ],
   "source": [
    "def reverse(a):\n",
    "    each = a.split()\n",
    "    print (*each[:: -1])\n",
    "a = input()\n",
    "reverse(a)"
   ]
  },
  {
   "cell_type": "markdown",
   "metadata": {},
   "source": [
    "Task 7"
   ]
  },
  {
   "cell_type": "code",
   "execution_count": 7,
   "metadata": {},
   "outputs": [
    {
     "name": "stdout",
     "output_type": "stream",
     "text": [
      "False\n"
     ]
    }
   ],
   "source": [
    "def has_33(nums):\n",
    "    for i in range(len(nums) - 1):\n",
    "        if nums[i] == 3 and nums[1 + i] == 3:\n",
    "            return True\n",
    "    return False\n",
    "nums = list(map(int, input().split()))\n",
    "print(has_33(nums))"
   ]
  },
  {
   "cell_type": "markdown",
   "metadata": {},
   "source": [
    "Task 8"
   ]
  },
  {
   "cell_type": "code",
   "execution_count": 8,
   "metadata": {},
   "outputs": [
    {
     "name": "stdout",
     "output_type": "stream",
     "text": [
      "False\n"
     ]
    }
   ],
   "source": [
    "def spy_game(lisst):\n",
    "    for i in range(len(lisst) - 2):\n",
    "        if lisst[i] == 0 and lisst[1 + i] == 0 and lisst[i + 2] == 7:\n",
    "            return True\n",
    "    return False\n",
    "nums = list(map(int, input().split()))\n",
    "print(has_33(nums))"
   ]
  },
  {
   "cell_type": "markdown",
   "metadata": {},
   "source": [
    "Task9\n"
   ]
  },
  {
   "cell_type": "code",
   "execution_count": 10,
   "metadata": {},
   "outputs": [
    {
     "name": "stdout",
     "output_type": "stream",
     "text": [
      "Volume: 696556.6666666666\n"
     ]
    }
   ],
   "source": [
    "def v(r):\n",
    "    vol = (4 * 3.14 * r**3)/3\n",
    "    print(\"Volume:\", vol)\n",
    "r = 55\n",
    "v(r)"
   ]
  },
  {
   "cell_type": "markdown",
   "metadata": {},
   "source": [
    "Task 11"
   ]
  },
  {
   "cell_type": "code",
   "execution_count": 13,
   "metadata": {},
   "outputs": [
    {
     "name": "stdout",
     "output_type": "stream",
     "text": [
      "True\n"
     ]
    }
   ],
   "source": [
    "def palindrome(word):\n",
    "    rev = word[::-1]\n",
    "    return rev == word\n",
    "word = \"madam\"\n",
    "print(palindrome(word))"
   ]
  },
  {
   "cell_type": "markdown",
   "metadata": {},
   "source": [
    "Task 12"
   ]
  },
  {
   "cell_type": "code",
   "execution_count": 14,
   "metadata": {},
   "outputs": [],
   "source": [
    "def histogram(l):\n",
    "    for i in l:\n",
    "        for j in range(i):\n",
    "            print('*', end = '')\n",
    "        print()\n",
    "l = list(map(int, input().split()))\n",
    "histogram(l)"
   ]
  },
  {
   "cell_type": "markdown",
   "metadata": {},
   "source": [
    "Task 13"
   ]
  },
  {
   "cell_type": "code",
   "execution_count": null,
   "metadata": {},
   "outputs": [],
   "source": [
    "import random\n",
    "name = input(\"Hello! What is your name? \")\n",
    "print(f\"Well, {name}, I am thinking of a number between 1 and 20.Take a guess. \")\n",
    "r = random.randint(1,20)\n",
    "t = 0\n",
    "while True:\n",
    "    num = int(input())\n",
    "    if r < num:\n",
    "        print(\"Your guess is too high.Take a guess.\")\n",
    "        t += 1\n",
    "    elif r > num:\n",
    "        print(\"Your guess is too low.Take a guess.\")\n",
    "        t += 1\n",
    "    else:\n",
    "        print (f\"Good job, {name}! You guessed my number in {t} guesses!\")\n",
    "        break"
   ]
  },
  {
   "cell_type": "markdown",
   "metadata": {},
   "source": [
    "Task 14"
   ]
  },
  {
   "cell_type": "code",
   "execution_count": null,
   "metadata": {},
   "outputs": [],
   "source": [
    "from lab3 import name\n",
    "t = 15\n",
    "name(t)"
   ]
  }
 ],
 "metadata": {
  "kernelspec": {
   "display_name": "Python 3",
   "language": "python",
   "name": "python3"
  },
  "language_info": {
   "codemirror_mode": {
    "name": "ipython",
    "version": 3
   },
   "file_extension": ".py",
   "mimetype": "text/x-python",
   "name": "python",
   "nbconvert_exporter": "python",
   "pygments_lexer": "ipython3",
   "version": "3.12.5"
  }
 },
 "nbformat": 4,
 "nbformat_minor": 2
}
