{
 "cells": [
  {
   "cell_type": "markdown",
   "metadata": {},
   "source": [
    "Task 1"
   ]
  },
  {
   "cell_type": "code",
   "execution_count": 1,
   "metadata": {},
   "outputs": [
    {
     "name": "stdout",
     "output_type": "stream",
     "text": [
      "No match found.\n"
     ]
    }
   ],
   "source": [
    "import re\n",
    "def match_string_ab():\n",
    "    pattern = r'a[b]*'    \n",
    "    test_string = input(\"Enter a string: \")\n",
    "    if re.match(pattern, test_string):\n",
    "        print(\"Match found!\")\n",
    "    else:\n",
    "        print(\"No match found.\")\n",
    "\n",
    "match_string_ab()"
   ]
  },
  {
   "cell_type": "markdown",
   "metadata": {},
   "source": [
    "Task 2"
   ]
  },
  {
   "cell_type": "code",
   "execution_count": 2,
   "metadata": {},
   "outputs": [
    {
     "name": "stdout",
     "output_type": "stream",
     "text": [
      "No match found.\n"
     ]
    }
   ],
   "source": [
    "import re\n",
    "def match_string_ab_2to3():\n",
    "    pattern = r'ab{2,3}'   \n",
    "    test_string = input(\"Enter a string: \")\n",
    "    if re.match(pattern, test_string):\n",
    "        print(\"Match found!\")\n",
    "    else:\n",
    "        print(\"No match found.\")\n",
    "\n",
    "match_string_ab_2to3()"
   ]
  },
  {
   "cell_type": "markdown",
   "metadata": {},
   "source": [
    "Task 3"
   ]
  },
  {
   "cell_type": "code",
   "execution_count": 3,
   "metadata": {},
   "outputs": [
    {
     "name": "stdout",
     "output_type": "stream",
     "text": [
      "False\n"
     ]
    }
   ],
   "source": [
    "import re\n",
    "text=input()\n",
    "if re.search(\"[a-z]+(_[a-z]+)\",text):\n",
    "    print (\"True\")\n",
    "else:\n",
    "    print(\"False\")"
   ]
  },
  {
   "cell_type": "markdown",
   "metadata": {},
   "source": [
    "Task 4"
   ]
  },
  {
   "cell_type": "code",
   "execution_count": 4,
   "metadata": {},
   "outputs": [
    {
     "name": "stdout",
     "output_type": "stream",
     "text": [
      "False\n"
     ]
    }
   ],
   "source": [
    "import re\n",
    "text=input()\n",
    "if re.search(\"[A-Z]+([a-z]+)\",text):\n",
    "    print (\"True\")\n",
    "else:\n",
    "    print(\"False\")"
   ]
  },
  {
   "cell_type": "markdown",
   "metadata": {},
   "source": [
    "Task 5"
   ]
  },
  {
   "cell_type": "code",
   "execution_count": 5,
   "metadata": {},
   "outputs": [
    {
     "name": "stdout",
     "output_type": "stream",
     "text": [
      "False\n"
     ]
    }
   ],
   "source": [
    "import re\n",
    "text=input()\n",
    "if re.search(\"a+[a-z]*b+\",text):\n",
    "    print (\"True\")\n",
    "else:\n",
    "    print(\"False\")"
   ]
  },
  {
   "cell_type": "markdown",
   "metadata": {},
   "source": [
    "Task 6 "
   ]
  },
  {
   "cell_type": "code",
   "execution_count": 7,
   "metadata": {},
   "outputs": [
    {
     "name": "stdout",
     "output_type": "stream",
     "text": [
      "\n"
     ]
    }
   ],
   "source": [
    "import re\n",
    "text=input()\n",
    "new_text = re.sub(r\"[\\s,\\.]\", \":\", text)\n",
    "print(new_text)"
   ]
  },
  {
   "cell_type": "markdown",
   "metadata": {},
   "source": [
    "Task 7"
   ]
  },
  {
   "cell_type": "code",
   "execution_count": 8,
   "metadata": {},
   "outputs": [
    {
     "name": "stdout",
     "output_type": "stream",
     "text": [
      "\n"
     ]
    }
   ],
   "source": [
    "a = input()\n",
    "new = \"\"\n",
    "i=0\n",
    "while i<len(a):\n",
    "    if a[i] == \"_\":\n",
    "        new += a[i + 1].upper()\n",
    "        a = a[:i] + a[i+1:]\n",
    "    else:\n",
    "        new += a[i]\n",
    "    i+=1\n",
    "print(new)"
   ]
  },
  {
   "cell_type": "markdown",
   "metadata": {},
   "source": [
    "Task 8"
   ]
  },
  {
   "cell_type": "code",
   "execution_count": 10,
   "metadata": {},
   "outputs": [
    {
     "name": "stdout",
     "output_type": "stream",
     "text": [
      "String split at uppercase letters: ['', 'Hello world in ', 'Python ']\n"
     ]
    }
   ],
   "source": [
    "import re\n",
    "def split_at_uppercase():\n",
    "    test_string = \"Hello world in Python \"\n",
    "    result = re.split(r'(?=[A-Z])', test_string)\n",
    "    print(\"String split at uppercase letters:\", result)\n",
    "\n",
    "split_at_uppercase()"
   ]
  },
  {
   "cell_type": "markdown",
   "metadata": {},
   "source": [
    "Task 9"
   ]
  },
  {
   "cell_type": "code",
   "execution_count": 16,
   "metadata": {},
   "outputs": [
    {
     "name": "stdout",
     "output_type": "stream",
     "text": [
      "I Am Hen Lis\n"
     ]
    }
   ],
   "source": [
    "import re\n",
    "\n",
    "a = \"I AmHenLis\"\n",
    "\n",
    "\n",
    "result = re.sub(r'([a-z])([A-Z])', r'\\1 \\2', a)\n",
    "\n",
    "print(result)"
   ]
  },
  {
   "cell_type": "markdown",
   "metadata": {},
   "source": [
    "Task 10"
   ]
  },
  {
   "cell_type": "code",
   "execution_count": 18,
   "metadata": {},
   "outputs": [
    {
     "name": "stdout",
     "output_type": "stream",
     "text": [
      "_i _am_hen_lis\n"
     ]
    }
   ],
   "source": [
    "a=\"I AmHenLis\"\n",
    "i=0\n",
    "result=\"\"\n",
    "while i<len(a):\n",
    "    if (a[i].isupper()):\n",
    "        result+=\"_\"\n",
    "        result+=a[i].lower()\n",
    "    else:\n",
    "        result+=a[i]\n",
    "    i+=1\n",
    "print(result)"
   ]
  }
 ],
 "metadata": {
  "kernelspec": {
   "display_name": "Python 3",
   "language": "python",
   "name": "python3"
  },
  "language_info": {
   "codemirror_mode": {
    "name": "ipython",
    "version": 3
   },
   "file_extension": ".py",
   "mimetype": "text/x-python",
   "name": "python",
   "nbconvert_exporter": "python",
   "pygments_lexer": "ipython3",
   "version": "3.12.5"
  }
 },
 "nbformat": 4,
 "nbformat_minor": 2
}
