{
 "cells": [
  {
   "cell_type": "markdown",
   "metadata": {},
   "source": [
    "Task 1"
   ]
  },
  {
   "cell_type": "code",
   "execution_count": 6,
   "metadata": {},
   "outputs": [
    {
     "name": "stdout",
     "output_type": "stream",
     "text": [
      "Directories: ['.git', 'lab1', 'lab2', 'lab3', 'lab4', 'lab5', 'lab6']\n",
      "Files: []\n",
      "All: ['.git', 'lab1', 'lab2', 'lab3', 'lab4', 'lab5', 'lab6']\n"
     ]
    }
   ],
   "source": [
    "import os\n",
    "def list_contents(path):\n",
    "    print(\"Directories:\", [d for d in os.listdir(path) if os.path.isdir(os.path.join(path, d))])\n",
    "    print(\"Files:\", [f for f in os.listdir(path) if os.path.isfile(os.path.join(path, f))])\n",
    "    print(\"All:\", os.listdir(path))\n",
    "list_contents(\"C:\\\\Users\\\\kuany\\\\OneDrive\\\\Рабочий стол\\\\PP2\")\n"
   ]
  },
  {
   "cell_type": "markdown",
   "metadata": {},
   "source": [
    "Task 2"
   ]
  },
  {
   "cell_type": "code",
   "execution_count": 8,
   "metadata": {},
   "outputs": [
    {
     "name": "stdout",
     "output_type": "stream",
     "text": [
      "Exists: True\n",
      "Readable: True\n",
      "Writable: True\n",
      "Executable: True\n"
     ]
    }
   ],
   "source": [
    "import os\n",
    "def check_access(path):\n",
    "    print(\"Exists:\", os.path.exists(path))\n",
    "    print(\"Readable:\", os.access(path, os.R_OK))\n",
    "    print(\"Writable:\", os.access(path, os.W_OK))\n",
    "    print(\"Executable:\", os.access(path, os.X_OK))\n",
    "\n",
    "check_access(\"C:\\\\Users\\\\kuany\\\\OneDrive\\\\Рабочий стол\\\\PP2\")"
   ]
  },
  {
   "cell_type": "markdown",
   "metadata": {},
   "source": [
    "Task 3"
   ]
  },
  {
   "cell_type": "code",
   "execution_count": 10,
   "metadata": {},
   "outputs": [
    {
     "name": "stdout",
     "output_type": "stream",
     "text": [
      "Path exists\n",
      "Directory: C:\\Users\\kuany\\OneDrive\\Рабочий стол\\PP2\n",
      "Filename: example.txt\n"
     ]
    }
   ],
   "source": [
    "import os\n",
    "def test_path(path):\n",
    "    if os.path.exists(path):\n",
    "        print(\"Path exists\")\n",
    "        print(\"Directory:\", os.path.dirname(path))\n",
    "        print(\"Filename:\", os.path.basename(path))\n",
    "    else:\n",
    "        print(\"Path does not exist\")\n",
    "\n",
    "test_path(\"C:\\\\Users\\\\kuany\\\\OneDrive\\\\Рабочий стол\\\\PP2\\\\example.txt\")"
   ]
  },
  {
   "cell_type": "markdown",
   "metadata": {},
   "source": [
    "Task 4"
   ]
  },
  {
   "cell_type": "code",
   "execution_count": 19,
   "metadata": {},
   "outputs": [
    {
     "name": "stdout",
     "output_type": "stream",
     "text": [
      "Number of lines: 5\n"
     ]
    }
   ],
   "source": [
    "def count_lines(file_path):\n",
    "    with open(file_path, 'r') as f:\n",
    "        print(\"Number of lines:\", sum(1 for _ in f))\n",
    "\n",
    "count_lines(\"C:\\\\Users\\\\kuany\\\\OneDrive\\\\Рабочий стол\\\\PP2\\\\example.txt\")"
   ]
  },
  {
   "cell_type": "markdown",
   "metadata": {},
   "source": [
    "Task 5"
   ]
  },
  {
   "cell_type": "code",
   "execution_count": 20,
   "metadata": {},
   "outputs": [
    {
     "name": "stdout",
     "output_type": "stream",
     "text": [
      "List written to file\n"
     ]
    }
   ],
   "source": [
    "def write_list_to_file(file_path, data):\n",
    "    with open(file_path, 'w') as f:\n",
    "        for item in data:\n",
    "            f.write(str(item) + '\\n')\n",
    "    print(\"List written to file\")\n",
    "\n",
    "write_list_to_file(\"C:\\\\Users\\\\kuany\\\\OneDrive\\\\Рабочий стол\\\\PP2\\\\list.txt\", [\"apple\", \"banana\", \"cherry\"])"
   ]
  },
  {
   "cell_type": "markdown",
   "metadata": {},
   "source": [
    "Task 6"
   ]
  },
  {
   "cell_type": "code",
   "execution_count": 22,
   "metadata": {},
   "outputs": [
    {
     "name": "stdout",
     "output_type": "stream",
     "text": [
      "Files A.txt to Z.txt created\n"
     ]
    }
   ],
   "source": [
    "import os\n",
    "import string\n",
    "def generate_text_files():\n",
    "    for letter in string.ascii_uppercase:\n",
    "        with open(f\"{letter}.txt\", 'w') as f:\n",
    "            f.write(f\"This is {letter}.txt\\n\")\n",
    "    print(\"Files A.txt to Z.txt created\")\n",
    "\n",
    "os.chdir(\"C:\\\\Users\\\\kuany\\\\OneDrive\\\\Рабочий стол\\\\PP2\")\n",
    "generate_text_files()"
   ]
  },
  {
   "cell_type": "markdown",
   "metadata": {},
   "source": [
    "Task 7"
   ]
  },
  {
   "cell_type": "code",
   "execution_count": 23,
   "metadata": {},
   "outputs": [
    {
     "name": "stdout",
     "output_type": "stream",
     "text": [
      "File copied successfully\n"
     ]
    }
   ],
   "source": [
    "import shutil\n",
    "def copy_file(source, destination):\n",
    "    shutil.copy(source, destination)\n",
    "    print(\"File copied successfully\")\n",
    "\n",
    "copy_file(\"C:\\\\Users\\\\kuany\\\\OneDrive\\\\Рабочий стол\\\\PP2\\\\example.txt\", \n",
    "          \"C:\\\\Users\\\\kuany\\\\OneDrive\\\\Рабочий стол\\\\PP2\\\\copy_example.txt\")\n"
   ]
  },
  {
   "cell_type": "markdown",
   "metadata": {},
   "source": [
    "Task 8"
   ]
  },
  {
   "cell_type": "code",
   "execution_count": 24,
   "metadata": {},
   "outputs": [
    {
     "name": "stdout",
     "output_type": "stream",
     "text": [
      "File does not exist or cannot be deleted\n"
     ]
    }
   ],
   "source": [
    "import os\n",
    "def delete_file(path):\n",
    "    if os.path.exists(path) and os.access(path, os.W_OK):\n",
    "        os.remove(path)\n",
    "        print(\"File deleted\")\n",
    "    else:\n",
    "        print(\"File does not exist or cannot be deleted\")\n",
    "\n",
    "delete_file(\"C:\\\\Users\\\\kuany\\\\OneDrive\\\\Рабочий стол\\\\PP2\\\\delete_me.txt\")"
   ]
  }
 ],
 "metadata": {
  "kernelspec": {
   "display_name": "Python 3",
   "language": "python",
   "name": "python3"
  },
  "language_info": {
   "codemirror_mode": {
    "name": "ipython",
    "version": 3
   },
   "file_extension": ".py",
   "mimetype": "text/x-python",
   "name": "python",
   "nbconvert_exporter": "python",
   "pygments_lexer": "ipython3",
   "version": "3.12.5"
  }
 },
 "nbformat": 4,
 "nbformat_minor": 2
}
